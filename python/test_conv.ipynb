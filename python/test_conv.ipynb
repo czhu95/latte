{
 "cells": [
  {
   "cell_type": "code",
   "execution_count": 90,
   "metadata": {
    "collapsed": false
   },
   "outputs": [],
   "source": [
    "# The caffe module needs to be on the Python path;\n",
    "#  we'll add it here explicitly.\n",
    "import sys\n",
    "caffe_root = '/home/xd/Projects/CMU/caffe/'  # this file should be run from {caffe_root}/examples (otherwise change this line)\n",
    "model_root = '/home/xd/Projects/CMU/fcn.berkeleyvision.org/'\n",
    "sys.path.insert(0, caffe_root + 'python')\n",
    "\n",
    "import caffe\n",
    "# If you get \"No module named _caffe\", either you have not built pycaffe or you have the wrong path.\n",
    "import numpy as np\n",
    "%matplotlib inline\n",
    "import matplotlib.pyplot as plt\n",
    "from PIL import Image"
   ]
  },
  {
   "cell_type": "code",
   "execution_count": 68,
   "metadata": {
    "collapsed": false
   },
   "outputs": [],
   "source": [
    "caffe.set_mode_cpu()\n",
    "\n",
    "model_def = model_root + 'voc-fcn8s/deploy.prototxt'\n",
    "model_weights = model_root + 'voc-fcn8s/fcn8s-heavy-pascal.caffemodel'\n",
    "\n",
    "net = caffe.Net(model_def,      # defines the structure of the model\n",
    "                model_weights,  # contains the trained weights\n",
    "                caffe.TEST)     # use test mode (e.g., don't perform dropout)"
   ]
  },
  {
   "cell_type": "code",
   "execution_count": null,
   "metadata": {
    "collapsed": true
   },
   "outputs": [],
   "source": []
  },
  {
   "cell_type": "code",
   "execution_count": 125,
   "metadata": {
    "collapsed": false
   },
   "outputs": [
    {
     "name": "stdout",
     "output_type": "stream",
     "text": [
      "(536, 536, 3)\n",
      "(536, 536, 3)\n",
      "(3, 536, 536)\n"
     ]
    }
   ],
   "source": [
    "#im = Image.open('/home/xd/Projects/CMU/TrainVal/VOCdevkit/VOC2011/JPEGImages/2007_000129.jpg')\n",
    "im = Image.open('../images/cat.png')\n",
    "in_ = np.array(im, dtype=np.float32)\n",
    "print in_.shape\n",
    "in_ = in_[:,:,::-1]\n",
    "print in_.shape\n",
    "#in_ -= np.array((104.00698793,116.66876762,122.67891434))                          \n",
    "in_ = in_.transpose((2,0,1))\n",
    "print in_.shape"
   ]
  },
  {
   "cell_type": "code",
   "execution_count": 126,
   "metadata": {
    "collapsed": false
   },
   "outputs": [
    {
     "name": "stdout",
     "output_type": "stream",
     "text": [
      "(3, 536, 536)\n",
      "1\n",
      "3\n",
      "500\n",
      "334\n"
     ]
    }
   ],
   "source": [
    "print in_.shape\n",
    "input_data = net.blobs['data']\n",
    "\n",
    "for i in range(4):\n",
    "    print input_data.shape[i]"
   ]
  },
  {
   "cell_type": "code",
   "execution_count": 194,
   "metadata": {
    "collapsed": false
   },
   "outputs": [],
   "source": [
    "weights = net.params['conv1_1'][0]\n",
    "#bias = net.params['conv1_1'][1]"
   ]
  },
  {
   "cell_type": "code",
   "execution_count": 195,
   "metadata": {
    "collapsed": false
   },
   "outputs": [
    {
     "name": "stdout",
     "output_type": "stream",
     "text": [
      "64 64\n",
      "3 3\n",
      "3 3\n",
      "3 3\n"
     ]
    },
    {
     "data": {
      "text/plain": [
       "(64, 3, 3, 3)"
      ]
     },
     "execution_count": 195,
     "metadata": {},
     "output_type": "execute_result"
    }
   ],
   "source": [
    "print weights.shape[0], weights.num\n",
    "print weights.shape[1], weights.channels\n",
    "print weights.shape[2], weights.height\n",
    "print weights.shape[3], weights.width\n",
    "weights.data.shape"
   ]
  },
  {
   "cell_type": "code",
   "execution_count": 168,
   "metadata": {
    "collapsed": false
   },
   "outputs": [
    {
     "name": "stdout",
     "output_type": "stream",
     "text": [
      "['input', 'data_input_0_split', 'conv1_1', 'relu1_1', 'conv1_2', 'relu1_2', 'pool1', 'conv2_1', 'relu2_1', 'conv2_2', 'relu2_2', 'pool2', 'conv3_1', 'relu3_1', 'conv3_2', 'relu3_2', 'conv3_3', 'relu3_3', 'pool3', 'pool3_pool3_0_split', 'conv4_1', 'relu4_1', 'conv4_2', 'relu4_2', 'conv4_3', 'relu4_3', 'pool4', 'pool4_pool4_0_split', 'conv5_1', 'relu5_1', 'conv5_2', 'relu5_2', 'conv5_3', 'relu5_3', 'pool5', 'fc6', 'relu6', 'fc7', 'relu7', 'score_fr', 'upscore2', 'upscore2_upscore2_0_split', 'score_pool4', 'score_pool4c', 'fuse_pool4', 'upscore_pool4', 'upscore_pool4_upscore_pool4_0_split', 'score_pool3', 'score_pool3c', 'fuse_pool3', 'upscore8', 'score']\n"
     ]
    },
    {
     "data": {
      "text/plain": [
       "{'conv1_1': array([[[[ 0.73654503,  0.73654503,  0.73654503, ...,  0.73654503,\n",
       "            0.73654503,  0.73654503],\n",
       "          [ 0.73654503,  0.73654503,  0.73654503, ...,  0.73654503,\n",
       "            0.73654503,  0.73654503],\n",
       "          [ 0.73654503,  0.73654503,  0.73654503, ...,  0.73654503,\n",
       "            0.73654503,  0.73654503],\n",
       "          ..., \n",
       "          [ 0.73654503,  0.73654503,  0.73654503, ...,  0.73654503,\n",
       "            0.73654503,  0.73654503],\n",
       "          [ 0.73654503,  0.73654503,  0.73654503, ...,  0.73654503,\n",
       "            0.73654503,  0.73654503],\n",
       "          [ 0.73654503,  0.73654503,  0.73654503, ...,  0.73654503,\n",
       "            0.73654503,  0.73654503]],\n",
       " \n",
       "         [[ 0.09364352,  0.09364352,  0.09364352, ...,  0.09364352,\n",
       "            0.09364352,  0.09364352],\n",
       "          [ 0.09364352,  0.09364352,  0.09364352, ...,  0.09364352,\n",
       "            0.09364352,  0.09364352],\n",
       "          [ 0.09364352,  0.09364352,  0.09364352, ...,  0.09364352,\n",
       "            0.09364352,  0.09364352],\n",
       "          ..., \n",
       "          [ 0.09364352,  0.09364352,  0.09364352, ...,  0.09364352,\n",
       "            0.09364352,  0.09364352],\n",
       "          [ 0.09364352,  0.09364352,  0.09364352, ...,  0.09364352,\n",
       "            0.09364352,  0.09364352],\n",
       "          [ 0.09364352,  0.09364352,  0.09364352, ...,  0.09364352,\n",
       "            0.09364352,  0.09364352]],\n",
       " \n",
       "         [[ 0.06715483,  0.06715483,  0.06715483, ...,  0.06715483,\n",
       "            0.06715483,  0.06715483],\n",
       "          [ 0.06715483,  0.06715483,  0.06715483, ...,  0.06715483,\n",
       "            0.06715483,  0.06715483],\n",
       "          [ 0.06715483,  0.06715483,  0.06715483, ...,  0.06715483,\n",
       "            0.06715483,  0.06715483],\n",
       "          ..., \n",
       "          [ 0.06715483,  0.06715483,  0.06715483, ...,  0.06715483,\n",
       "            0.06715483,  0.06715483],\n",
       "          [ 0.06715483,  0.06715483,  0.06715483, ...,  0.06715483,\n",
       "            0.06715483,  0.06715483],\n",
       "          [ 0.06715483,  0.06715483,  0.06715483, ...,  0.06715483,\n",
       "            0.06715483,  0.06715483]],\n",
       " \n",
       "         ..., \n",
       "         [[ 1.30226743,  1.30226743,  1.30226743, ...,  1.30226743,\n",
       "            1.30226743,  1.30226743],\n",
       "          [ 1.30226743,  1.30226743,  1.30226743, ...,  1.30226743,\n",
       "            1.30226743,  1.30226743],\n",
       "          [ 1.30226743,  1.30226743,  1.30226743, ...,  1.30226743,\n",
       "            1.30226743,  1.30226743],\n",
       "          ..., \n",
       "          [ 1.30226743,  1.30226743,  1.30226743, ...,  1.30226743,\n",
       "            1.30226743,  1.30226743],\n",
       "          [ 1.30226743,  1.30226743,  1.30226743, ...,  1.30226743,\n",
       "            1.30226743,  1.30226743],\n",
       "          [ 1.30226743,  1.30226743,  1.30226743, ...,  1.30226743,\n",
       "            1.30226743,  1.30226743]],\n",
       " \n",
       "         [[ 0.53044802,  0.53044802,  0.53044802, ...,  0.53044802,\n",
       "            0.53044802,  0.53044802],\n",
       "          [ 0.53044802,  0.53044802,  0.53044802, ...,  0.53044802,\n",
       "            0.53044802,  0.53044802],\n",
       "          [ 0.53044802,  0.53044802,  0.53044802, ...,  0.53044802,\n",
       "            0.53044802,  0.53044802],\n",
       "          ..., \n",
       "          [ 0.53044802,  0.53044802,  0.53044802, ...,  0.53044802,\n",
       "            0.53044802,  0.53044802],\n",
       "          [ 0.53044802,  0.53044802,  0.53044802, ...,  0.53044802,\n",
       "            0.53044802,  0.53044802],\n",
       "          [ 0.53044802,  0.53044802,  0.53044802, ...,  0.53044802,\n",
       "            0.53044802,  0.53044802]],\n",
       " \n",
       "         [[ 0.49044719,  0.49044719,  0.49044719, ...,  0.49044719,\n",
       "            0.49044719,  0.49044719],\n",
       "          [ 0.49044719,  0.49044719,  0.49044719, ...,  0.49044719,\n",
       "            0.49044719,  0.49044719],\n",
       "          [ 0.49044719,  0.49044719,  0.49044719, ...,  0.49044719,\n",
       "            0.49044719,  0.49044719],\n",
       "          ..., \n",
       "          [ 0.49044719,  0.49044719,  0.49044719, ...,  0.49044719,\n",
       "            0.49044719,  0.49044719],\n",
       "          [ 0.49044719,  0.49044719,  0.49044719, ...,  0.49044719,\n",
       "            0.49044719,  0.49044719],\n",
       "          [ 0.49044719,  0.49044719,  0.49044719, ...,  0.49044719,\n",
       "            0.49044719,  0.49044719]]]], dtype=float32)}"
      ]
     },
     "execution_count": 168,
     "metadata": {},
     "output_type": "execute_result"
    }
   ],
   "source": [
    "# shape for input (data blob is N x C x H x W), set data                           \n",
    "net.blobs['data'].reshape(1, *in_.shape)                                           \n",
    "net.blobs['data'].data[...] = in_\n",
    "\n",
    "print list(net._layer_names)\n",
    "# just run till the conv1_1 layer, inclusive\n",
    "net.forward(start='input', end='conv1_1')"
   ]
  },
  {
   "cell_type": "code",
   "execution_count": 169,
   "metadata": {
    "collapsed": false,
    "scrolled": true
   },
   "outputs": [
    {
     "name": "stdout",
     "output_type": "stream",
     "text": [
      "(1, 64, 734, 734)\n"
     ]
    }
   ],
   "source": [
    "# result of the convolution, initialized to 0\n",
    "conv1_1_result = net.blobs['conv1_1']\n",
    "print conv1_1_result.data.shape"
   ]
  },
  {
   "cell_type": "code",
   "execution_count": 229,
   "metadata": {
    "collapsed": false
   },
   "outputs": [
    {
     "data": {
      "text/plain": [
       "numpy.ndarray"
      ]
     },
     "execution_count": 229,
     "metadata": {},
     "output_type": "execute_result"
    }
   ],
   "source": [
    "type(conv1_1_result.data[0])"
   ]
  },
  {
   "cell_type": "code",
   "execution_count": 231,
   "metadata": {
    "collapsed": false
   },
   "outputs": [],
   "source": [
    "# can save all layers here\n",
    "np.savetxt(\"caffe.csv\", conv1_1_result.data[0, 0], delimiter=\",\")"
   ]
  },
  {
   "cell_type": "code",
   "execution_count": 213,
   "metadata": {
    "collapsed": false
   },
   "outputs": [
    {
     "data": {
      "image/png": "[encoded data removed]",
      "text/plain": [
       "<matplotlib.figure.Figure at 0x7fd139619890>"
      ]
     },
     "metadata": {},
     "output_type": "display_data"
    }
   ],
   "source": [
    "#filt_min, filt_max = conv1_1_result.data.min(), conv1_1_result.data.max()\n",
    "plt.figure()\n",
    "#plt.imshow(conv1_1_result.data[0, 0], cmap='gray', vmin=filt_min, vmax=filt_max)\n",
    "plt.imshow(conv1_1_result.data[0, 0], cmap='gray')\n",
    "plt.axis('off')\n",
    "plt.savefig(\"test.png\")"
   ]
  },
  {
   "cell_type": "code",
   "execution_count": 217,
   "metadata": {
    "collapsed": false
   },
   "outputs": [],
   "source": [
    "caffe_data = conv1_1_result.data[0, 0]"
   ]
  },
  {
   "cell_type": "code",
   "execution_count": 218,
   "metadata": {
    "collapsed": true
   },
   "outputs": [],
   "source": [
    "halide_data = np.genfromtxt(\"../test.csv\", delimiter=\",\")"
   ]
  },
  {
   "cell_type": "code",
   "execution_count": 219,
   "metadata": {
    "collapsed": false
   },
   "outputs": [
    {
     "data": {
      "text/plain": [
       "(734, 734)"
      ]
     },
     "execution_count": 219,
     "metadata": {},
     "output_type": "execute_result"
    }
   ],
   "source": [
    "caffe_data.shape"
   ]
  },
  {
   "cell_type": "code",
   "execution_count": 220,
   "metadata": {
    "collapsed": false
   },
   "outputs": [
    {
     "data": {
      "text/plain": [
       "(734, 734)"
      ]
     },
     "execution_count": 220,
     "metadata": {},
     "output_type": "execute_result"
    }
   ],
   "source": [
    "halide_data.shape"
   ]
  },
  {
   "cell_type": "code",
   "execution_count": 223,
   "metadata": {
    "collapsed": true
   },
   "outputs": [],
   "source": [
    "for x in range(734):\n",
    "    for y in range(734):\n",
    "        caffe_val = caffe_data[x, y]\n",
    "        halide_val = caffe_data[x, y]\n",
    "        if caffe_val != halide_val:\n",
    "            print x, y"
   ]
  },
  {
   "cell_type": "code",
   "execution_count": null,
   "metadata": {
    "collapsed": true
   },
   "outputs": [],
   "source": []
  }
 ],
 "metadata": {
  "kernelspec": {
   "display_name": "Python 2",
   "language": "python",
   "name": "python2"
  },
  "language_info": {
   "codemirror_mode": {
    "name": "ipython",
    "version": 2
   },
   "file_extension": ".py",
   "mimetype": "text/x-python",
   "name": "python",
   "nbconvert_exporter": "python",
   "pygments_lexer": "ipython2",
   "version": "2.7.6"
  }
 },
 "nbformat": 4,
 "nbformat_minor": 0
}
